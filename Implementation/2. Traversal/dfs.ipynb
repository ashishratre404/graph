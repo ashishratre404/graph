{
 "metadata": {
  "language_info": {
   "codemirror_mode": {
    "name": "ipython",
    "version": 3
   },
   "file_extension": ".py",
   "mimetype": "text/x-python",
   "name": "python",
   "nbconvert_exporter": "python",
   "pygments_lexer": "ipython3",
   "version": "3.9.5"
  },
  "orig_nbformat": 4,
  "kernelspec": {
   "name": "python3",
   "display_name": "Python 3.9.5 64-bit"
  },
  "interpreter": {
   "hash": "e16b9bd33e7041c0842013505aab8d96e59e427e4e0c80436ba1b7c1f34f93b5"
  }
 },
 "nbformat": 4,
 "nbformat_minor": 2,
 "cells": [
  {
   "cell_type": "code",
   "execution_count": 11,
   "metadata": {},
   "outputs": [],
   "source": [
    "#graph representation (directed graph with one component)\n",
    "# adj_list = {\n",
    "#     'A':['B','C'],\n",
    "#     'B':['D','E'],\n",
    "#     'C':['B','F'],\n",
    "#     'D':[],\n",
    "#     'E':['F'],\n",
    "#     'F':[]\n",
    "# }\n",
    "\n",
    "# un-directed graph with two components\n",
    "adj_list = {\n",
    "    'A':['B'],\n",
    "    'B':['A','D','E'],\n",
    "    'C':['F'],\n",
    "    'D':['B'],\n",
    "    'E':['B'],\n",
    "    'F':['C']\n",
    "}\n"
   ]
  },
  {
   "cell_type": "code",
   "execution_count": 18,
   "metadata": {},
   "outputs": [
    {
     "output_type": "stream",
     "name": "stdout",
     "text": [
      "['A', 'B', 'D', 'E', 'C', 'F']\n{'A': None, 'B': 'A', 'C': None, 'D': 'B', 'E': 'B', 'F': 'C'}\n{'A': [0, 7], 'B': [1, 6], 'C': [8, 11], 'D': [2, 3], 'E': [4, 5], 'F': [9, 10]}\n"
     ]
    }
   ],
   "source": [
    "#required array and dictionary\n",
    "color = {}  # W, G, B  --> W: not visited at all G: adjacent node is not visited  B: adjacent node is also visited\n",
    "parent = {}\n",
    "trav_time = {}  # [start, end]\n",
    "dfs_trvsl = []\n",
    "\n",
    "#initialization\n",
    "for node in adj_list.keys():\n",
    "    color[node] = 'W'\n",
    "    parent[node] = None\n",
    "    trav_time[node] = [-1, -1]\n",
    "\n",
    "time = 0\n",
    "def dfs(u):\n",
    "    global time\n",
    "    color[u] = 'G'\n",
    "    trav_time[u][0] = time\n",
    "    dfs_trvsl.append(u)\n",
    "\n",
    "\n",
    "    time +=1\n",
    "    for v in adj_list[u]:\n",
    "        if color[v] == 'W':\n",
    "            parent[v] = u\n",
    "            dfs(v)\n",
    "    color[u] = 'B'\n",
    "    trav_time[u][1] = time\n",
    "    time +=1\n",
    "\n",
    "for u in adj_list.keys():\n",
    "    if color[u] == 'W':\n",
    "        dfs(u)\n",
    "\n",
    "print(dfs_trvsl)\n",
    "print(parent)\n",
    "print(trav_time)\n"
   ]
  },
  {
   "cell_type": "code",
   "execution_count": 19,
   "metadata": {},
   "outputs": [
    {
     "output_type": "stream",
     "name": "stdout",
     "text": [
      "A -> [0, 7]\nB -> [1, 6]\nC -> [8, 11]\nD -> [2, 3]\nE -> [4, 5]\nF -> [9, 10]\n"
     ]
    }
   ],
   "source": [
    "for node in adj_list:\n",
    "    print(node, \"->\", trav_time[node])"
   ]
  },
  {
   "cell_type": "code",
   "execution_count": null,
   "metadata": {},
   "outputs": [],
   "source": []
  }
 ]
}