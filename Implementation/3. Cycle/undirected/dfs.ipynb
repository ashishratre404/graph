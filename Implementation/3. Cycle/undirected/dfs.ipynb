{
 "metadata": {
  "language_info": {
   "codemirror_mode": {
    "name": "ipython",
    "version": 3
   },
   "file_extension": ".py",
   "mimetype": "text/x-python",
   "name": "python",
   "nbconvert_exporter": "python",
   "pygments_lexer": "ipython3",
   "version": "3.9.0"
  },
  "orig_nbformat": 4,
  "kernelspec": {
   "name": "python3",
   "display_name": "Python 3.9.0 32-bit"
  },
  "interpreter": {
   "hash": "501e67d57b0b49c18f12c85c4a221143ad8b7d589dba661024234705e7e57274"
  }
 },
 "nbformat": 4,
 "nbformat_minor": 2,
 "cells": [
  {
   "cell_type": "code",
   "execution_count": 1,
   "metadata": {},
   "outputs": [],
   "source": [
    "#directed Graph\n",
    "adj_list = {\n",
    "    1:[2],\n",
    "    2:[3],\n",
    "    3:[4,6],\n",
    "    4:[5],\n",
    "    5:[],\n",
    "    6:[5]\n",
    "}\n",
    "\n",
    "# adj_list = {\n",
    "#     'A':['B','C'],\n",
    "#     'B':['D'],\n",
    "#     'C':[],\n",
    "#     'D':['A','E'],\n",
    "#     'E':[]\n",
    "# }\n",
    "\n",
    "\n",
    "#undirected Graph\n",
    "# adj_list = {\n",
    "#     'A':['B','C','D'],\n",
    "#     'B':['A','D'],\n",
    "#     'C':['A'],\n",
    "#     'D':['A','B','E'],\n",
    "#     'E':['E']\n",
    "# }"
   ]
  },
  {
   "cell_type": "code",
   "execution_count": 2,
   "metadata": {},
   "outputs": [
    {
     "output_type": "stream",
     "name": "stdout",
     "text": [
      "{1: 'W', 2: 'W', 3: 'W', 4: 'W', 5: 'W', 6: 'W'}\n{1: None, 2: None, 3: None, 4: None, 5: None, 6: None}\n"
     ]
    }
   ],
   "source": [
    "color = {}\n",
    "parent = {}\n",
    "for u in adj_list.keys():\n",
    "    color[u] = 'W'\n",
    "    parent[u] = None\n",
    "print(color)\n",
    "print(parent)"
   ]
  },
  {
   "cell_type": "code",
   "execution_count": 3,
   "metadata": {},
   "outputs": [],
   "source": [
    "def dfs_cycle(u,color,parent):\n",
    "    color[u] = 'G'\n",
    "    for v in adj_list[u]:\n",
    "        if color[v] == 'W':\n",
    "            parent[v] = u  # dont use this for directed graph\n",
    "            cycle = dfs_cycle(v, color, parent)\n",
    "            if cycle == True:\n",
    "                return True\n",
    "        elif color[v] == 'G' and parent[u]!=v:  # parent[u] != v  : use only for undirected\n",
    "            print('Cycle found', u, v)\n",
    "            return True\n",
    "    color = 'B'\n",
    "    return False"
   ]
  },
  {
   "cell_type": "code",
   "execution_count": 4,
   "metadata": {},
   "outputs": [
    {
     "output_type": "stream",
     "name": "stdout",
     "text": [
      "Cycle found 6 5\nis_cycle :  True\n"
     ]
    }
   ],
   "source": [
    "is_cycle = False\n",
    "for u in adj_list.keys():\n",
    "    if color[u] == 'W':\n",
    "        is_cycle = dfs_cycle(u,color,parent)\n",
    "        if is_cycle == True:\n",
    "            break\n",
    "print('is_cycle : ', is_cycle)"
   ]
  },
  {
   "cell_type": "code",
   "execution_count": null,
   "metadata": {},
   "outputs": [],
   "source": []
  }
 ]
}